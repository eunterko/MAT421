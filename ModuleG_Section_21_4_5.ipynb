{
  "nbformat": 4,
  "nbformat_minor": 0,
  "metadata": {
    "colab": {
      "provenance": [],
      "authorship_tag": "ABX9TyOWqzjV/6Eze4PXKVHlpTOq",
      "include_colab_link": true
    },
    "kernelspec": {
      "name": "python3",
      "display_name": "Python 3"
    },
    "language_info": {
      "name": "python"
    }
  },
  "cells": [
    {
      "cell_type": "markdown",
      "metadata": {
        "id": "view-in-github",
        "colab_type": "text"
      },
      "source": [
        "<a href=\"https://colab.research.google.com/github/eunterko/MAT421/blob/main/ModuleG_Section_21_4_5.ipynb\" target=\"_parent\"><img src=\"https://colab.research.google.com/assets/colab-badge.svg\" alt=\"Open In Colab\"/></a>"
      ]
    },
    {
      "cell_type": "markdown",
      "source": [
        "# **Chapter 21: Numerical Integration (part 2)**"
      ],
      "metadata": {
        "id": "JgpwER7iYE5b"
      }
    },
    {
      "cell_type": "markdown",
      "source": [
        "# *21.4 Simpson’s Rule*"
      ],
      "metadata": {
        "id": "iXiH8TRTYN4f"
      }
    },
    {
      "cell_type": "markdown",
      "source": [
        "The next method for numerical integration is Simpson's Rule. Using Simpson's Rule, we will consider two consecutive intervals, defining a quadratic polynomial through these points before explicitly integrating that quadratic. Due to this set-up, we must have an even number of intervals, or an odd number of grid points. The most straight-forward way to construct the quadratic polynomial is with Lagrange polynomials, as discussed previously with respect to interpolation. Constructing a Lagrange polynomial over these two consecutive subintervals, and taking the integral gives us the following:"
      ],
      "metadata": {
        "id": "non8qL_YYQPB"
      }
    },
    {
      "cell_type": "code",
      "source": [
        "# \\int_{x_{i-1}}^{x_{i+1}} P_i(x)dx = (h/3) * (f(x_{i-1}) + 4f(x_i) + f(x_{i+1}))"
      ],
      "metadata": {
        "id": "yivISm_mYQXj"
      },
      "execution_count": null,
      "outputs": []
    },
    {
      "cell_type": "markdown",
      "source": [
        "Regrouping for the entire interval gives us"
      ],
      "metadata": {
        "id": "sN1TPW7ihQ6s"
      }
    },
    {
      "cell_type": "code",
      "source": [
        "# \\int_a^b f(x)dx \\approx (h/3) * [f(x_0) + 4*(\\sum_{i = 1, i odd}^{n-1} f(x_i)) + 2*(\\sum_{i = 2, i even}^{n-2} f(x_i)) + f(x_n)]"
      ],
      "metadata": {
        "id": "Uu7Ht2dHhboa"
      },
      "execution_count": null,
      "outputs": []
    },
    {
      "cell_type": "markdown",
      "source": [
        "To determine the accuracy, we use a Taylor series approximation, giving us"
      ],
      "metadata": {
        "id": "gBxPIfDeiq_d"
      }
    },
    {
      "cell_type": "code",
      "source": [
        "# \\int_{x_{i-1}}^{x_{i+1}} f(x)dx = (h/3) * (f(x_{i-1}) + 4f(x_i) + f(x_{i+1})) + O(h^5)"
      ],
      "metadata": {
        "id": "sf3qGiJvi1-A"
      },
      "execution_count": null,
      "outputs": []
    },
    {
      "cell_type": "markdown",
      "source": [
        "We thus have an accuracy of O(h^5) for the subintervals, or O(h^4) for the entire interval - a considerable improvement over the previous numerical integration methods. As an example, let's once again consider f(x) = sin(x) on the interval [0,Pi], with 21 evenly spaced grid points:"
      ],
      "metadata": {
        "id": "9yDmx_6Di1X5"
      }
    },
    {
      "cell_type": "code",
      "source": [
        "import numpy as np\n",
        "\n",
        "a = 0\n",
        "b = np.pi\n",
        "n = 21\n",
        "h = (b - a) / (n - 1)\n",
        "x = np.linspace(a, b, n)\n",
        "f = np.sin(x)\n",
        "\n",
        "int_simpson = (h/3) * (f[0] + 2*sum(f[:n-2:2]) + 4*sum(f[1:n-1:2]) + f[n-1])\n",
        "error_simpson = 2 - int_simpson\n",
        "\n",
        "print(int_simpson)\n",
        "print(error_simpson)"
      ],
      "metadata": {
        "colab": {
          "base_uri": "https://localhost:8080/"
        },
        "id": "HWNxbI3br0jR",
        "outputId": "681b4e04-0de3-4857-e3dd-75c218b2845f"
      },
      "execution_count": 2,
      "outputs": [
        {
          "output_type": "stream",
          "name": "stdout",
          "text": [
            "2.0000067844418012\n",
            "-6.7844418012441565e-06\n"
          ]
        }
      ]
    },
    {
      "cell_type": "markdown",
      "source": [
        "Next, let's take a look at some integration functions that we can use in Python."
      ],
      "metadata": {
        "id": "HyIXUOpusUoo"
      }
    },
    {
      "cell_type": "markdown",
      "source": [
        "# *21.5 Computing Integrals in Python*"
      ],
      "metadata": {
        "id": "ixjaSfeCYQfH"
      }
    },
    {
      "cell_type": "markdown",
      "source": [
        "The library SciPy contains a number of functions in the sub-package integrate which we can use to perform numerical integrations in Python. First, lets consider 'trapz', which works similar to the Trapezoid Rule discussed previously, with the same function and interval used above:"
      ],
      "metadata": {
        "id": "FxsSWkbuYSmq"
      }
    },
    {
      "cell_type": "code",
      "source": [
        "import numpy as np\n",
        "from scipy.integrate import trapz\n",
        "\n",
        "a = 0\n",
        "b = np.pi\n",
        "n = 11\n",
        "h = (b - a) / (n - 1)\n",
        "x = np.linspace(a, b, n)\n",
        "f = np.sin(x)\n",
        "\n",
        "int_trapz = trapz(f,x)\n",
        "error_trapz = 2- int_trapz\n",
        "riemann_trapezoid = (h/2)*(f[0] + 2 * sum(f[1:n-1]) + f[n-1])\n",
        "riemann_trapezoid_error = 2 - riemann_trapezoid\n",
        "\n",
        "print(int_trapz)\n",
        "print(error_trapz)\n",
        "\n",
        "print(riemann_trapezoid)\n",
        "print(riemann_trapezoid_error)"
      ],
      "metadata": {
        "id": "7oPnUqj1YSvh",
        "colab": {
          "base_uri": "https://localhost:8080/"
        },
        "outputId": "1c3a294e-c782-4a27-83a4-114130568089"
      },
      "execution_count": 3,
      "outputs": [
        {
          "output_type": "stream",
          "name": "stdout",
          "text": [
            "1.9835235375094544\n",
            "0.016476462490545574\n",
            "1.9835235375094546\n",
            "0.01647646249054535\n"
          ]
        }
      ]
    },
    {
      "cell_type": "markdown",
      "source": [
        "We similarly have the function 'cumtrapz', which utilizes the cumulative sum function cumsum, allowing us to more simply graph the numerical integral. Using the same example as before, with space discritization of 0.1:"
      ],
      "metadata": {
        "id": "U4aWfp6huu4w"
      }
    },
    {
      "cell_type": "code",
      "source": [
        "from scipy.integrate import cumtrapz\n",
        "import matplotlib.pyplot as plt\n",
        "plt.style.use('default')\n",
        "\n",
        "x = np.arange(0, np.pi, 0.1)\n",
        "F = -np.cos(x)\n",
        "F_riemann_trapezoid = cumtrapz(np.sin(x), x) - 1\n",
        "\n",
        "plt.plot(x, F,'b-')\n",
        "plt.plot(x[1::], F_riemann_trapezoid,'r-')\n",
        "plt.title('$F(x) = \\int_0^{x} sin(x\\') dx\\'$')\n",
        "plt.xlabel('x')\n",
        "plt.ylabel('f(x)')\n",
        "plt.legend(['Exact solution', 'Trapezoid Rule'])\n",
        "plt.show()"
      ],
      "metadata": {
        "colab": {
          "base_uri": "https://localhost:8080/",
          "height": 483
        },
        "id": "BH_ckU75vMJb",
        "outputId": "f01ac697-b919-43b0-a2ad-91199f48a11f"
      },
      "execution_count": 15,
      "outputs": [
        {
          "output_type": "display_data",
          "data": {
            "text/plain": [
              "<Figure size 640x480 with 1 Axes>"
            ],
            "image/png": "[encoded data removed]"
          },
          "metadata": {}
        }
      ]
    },
    {
      "cell_type": "markdown",
      "source": [
        "The final function is this sub-package that we will consider is 'quad'. Using the same example as above:"
      ],
      "metadata": {
        "id": "w63QLIhWwlWM"
      }
    },
    {
      "cell_type": "code",
      "source": [
        "from scipy.integrate import quad \n",
        "\n",
        "int_quad, est_error_quad = quad(np.sin, 0, np.pi)\n",
        "error_quad = 2 - int_quad\n",
        "\n",
        "print(int_quad)\n",
        "print(est_error_quad)\n",
        "print(error_quad)"
      ],
      "metadata": {
        "colab": {
          "base_uri": "https://localhost:8080/"
        },
        "id": "h4tWxpnmww9l",
        "outputId": "5cc4dfd3-2dc4-4b18-f638-7bea5acf4166"
      },
      "execution_count": 14,
      "outputs": [
        {
          "output_type": "stream",
          "name": "stdout",
          "text": [
            "2.0\n",
            "2.220446049250313e-14\n",
            "0.0\n"
          ]
        }
      ]
    },
    {
      "cell_type": "markdown",
      "source": [
        "We see that this function is highly accurate. In conlcusion, there are a number of ways to calculate numerical integrals in Python, which we can select based on accuracy or utility depnding on the situation. "
      ],
      "metadata": {
        "id": "DNMIpgGVxK0h"
      }
    }
  ]
}