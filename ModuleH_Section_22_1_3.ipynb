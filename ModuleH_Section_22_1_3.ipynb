{
  "nbformat": 4,
  "nbformat_minor": 0,
  "metadata": {
    "colab": {
      "provenance": [],
      "authorship_tag": "ABX9TyMhu7hj9+Bw3TkZ7SNycuwX",
      "include_colab_link": true
    },
    "kernelspec": {
      "name": "python3",
      "display_name": "Python 3"
    },
    "language_info": {
      "name": "python"
    }
  },
  "cells": [
    {
      "cell_type": "markdown",
      "metadata": {
        "id": "view-in-github",
        "colab_type": "text"
      },
      "source": [
        "<a href=\"https://colab.research.google.com/github/eunterko/MAT421/blob/main/ModuleH_Section_22_1_3.ipynb\" target=\"_parent\"><img src=\"https://colab.research.google.com/assets/colab-badge.svg\" alt=\"Open In Colab\"/></a>"
      ]
    },
    {
      "cell_type": "markdown",
      "source": [
        "# **Chapter 22: Ordinary Differential Equation - Initial Value Problems**"
      ],
      "metadata": {
        "id": "2jFpp4ayYdKt"
      }
    },
    {
      "cell_type": "markdown",
      "source": [
        "# *22.1 ODE Initial Value Problem Statement*"
      ],
      "metadata": {
        "id": "ZEDY-DKaYgVA"
      }
    },
    {
      "cell_type": "markdown",
      "source": [
        "A differential equation is an equation that gives a relationship between a function f(x), its derivatives, and its independent variable x. A differential equation is ordinary is the independent variable is in one dimension, and the order of a differential equation is given by the highest order of a derivative of the function f(x) that appears in the equation. For example,"
      ],
      "metadata": {
        "id": "NAS6jnI6Yi1l"
      }
    },
    {
      "cell_type": "code",
      "source": [
        "# d^2f(x)/dx^2 = -f(x)"
      ],
      "metadata": {
        "id": "Y80Y6eO9Yi_i"
      },
      "execution_count": null,
      "outputs": []
    },
    {
      "cell_type": "markdown",
      "source": [
        "is a second-order ordinary differential equation. With all this in mind, we can consider the problem statement for initial value problems: given an ordinary differential equation involving f(x), and its inital values (values at x=0 for f(x) and all its derivatives), we want to find a unique solution."
      ],
      "metadata": {
        "id": "swhmONj_QRIy"
      }
    },
    {
      "cell_type": "markdown",
      "source": [
        "# *22.2 Reduction of Order*"
      ],
      "metadata": {
        "id": "XH_vwEwmYjJK"
      }
    },
    {
      "cell_type": "markdown",
      "source": [
        "In order to approach the ODE initial value problem outlined above, one frequent method used is reduction of order. In this method, we essentially rewrite the nth-order ordinary differential equation as a system of coupled first-order ordinary differential equations. To do this, we will often consider the state S(x):"
      ],
      "metadata": {
        "id": "Vgs5ad27YlcP"
      }
    },
    {
      "cell_type": "code",
      "source": [
        "# S(x) = [f(x) \\\\ f'(x) \\\\ f''(x) \\\\ ...] = [S_1(x) \\\\ S_2(x) \\\\ S_3(x) \\\\ ...]\n",
        "# S'(x) = [f'(x) \\\\ f''(x) \\\\ f'''(x) \\\\ ...] = [S_2(x) \\\\ S_3(x) \\\\ S_4(x) \\\\ ...]"
      ],
      "metadata": {
        "id": "c0fA8G7nYloF"
      },
      "execution_count": null,
      "outputs": []
    },
    {
      "cell_type": "markdown",
      "source": [
        "As we can see here, we end up with an equation of S'(x) in terms of S_i(x): a first-order differential equation. As an example, let's consider a population model for rabits r(t) and wolves w(t):"
      ],
      "metadata": {
        "id": "hfbAuoDySMIS"
      }
    },
    {
      "cell_type": "code",
      "source": [
        "# r'(t) = 2r(t) - w(t)\n",
        "# w'(t) = r(t) + w(t)"
      ],
      "metadata": {
        "id": "iQFr07K6SjAW"
      },
      "execution_count": null,
      "outputs": []
    },
    {
      "cell_type": "markdown",
      "source": [
        "We can then write our state S(t) as"
      ],
      "metadata": {
        "id": "0Q1DGqq2SvSV"
      }
    },
    {
      "cell_type": "code",
      "source": [
        "# S(t) = [r(t) \\\\ w(t)]"
      ],
      "metadata": {
        "id": "5xzreQIlS0RI"
      },
      "execution_count": null,
      "outputs": []
    },
    {
      "cell_type": "markdown",
      "source": [
        "and taking the derivative of our state then gives us"
      ],
      "metadata": {
        "id": "SMb_qOz-Szo_"
      }
    },
    {
      "cell_type": "code",
      "source": [
        "# S'(t) = [r'(t) \\\\ w'(t)] = [2r(t) - w(t) \\\\ r(t) + w(t)] = [2 & -1 \\\\ 1 & 1]S(t)"
      ],
      "metadata": {
        "id": "dWkg4YZoS8Fd"
      },
      "execution_count": null,
      "outputs": []
    },
    {
      "cell_type": "markdown",
      "source": [
        "a coupled first-order differential equation. Next, let's consider some methods to approach solving this reduced-order system."
      ],
      "metadata": {
        "id": "YddddzqGTNMz"
      }
    },
    {
      "cell_type": "markdown",
      "source": [
        "# *22.3 The Euler Method*"
      ],
      "metadata": {
        "id": "4pQyFq_2YlvL"
      }
    },
    {
      "cell_type": "markdown",
      "source": [
        "One of the simplest solution methods for the first-order ODE system is Euler's Method. In this method, we consider the ODE S'(t) = F[t, S(t)], and we discretize t with spacing h. Given the initial values, we can then define each 'step' forward for the solution with the explicit Euler formula:"
      ],
      "metadata": {
        "id": "TodHw0OkYnia"
      }
    },
    {
      "cell_type": "code",
      "source": [
        "# S(t_{i+1}) = S(t_i) + h * F[t_i, S(t_i)]"
      ],
      "metadata": {
        "id": "KSqukn8vYnya"
      },
      "execution_count": null,
      "outputs": []
    },
    {
      "cell_type": "markdown",
      "source": [
        "This method is explicit because each step t_{i+1} relies only on information from the previous step t_i. Let's apply this method to the following initial value problem: f'(t) = e^t, f(0) = 1. This problem has the explicit solution f(t) = e^t, so let's compare with our explicit Euler solution:"
      ],
      "metadata": {
        "id": "G6fB9EQlW2Hp"
      }
    },
    {
      "cell_type": "code",
      "source": [
        "import numpy as np\n",
        "import matplotlib.pyplot as plt\n",
        "plt.style.use('default')\n",
        "\n",
        "f = lambda t, s: np.exp(t)\n",
        "h = 0.2\n",
        "t = np.arange(0, 2, h)\n",
        "s0 = 1\n",
        "\n",
        "s = np.zeros(len(t))\n",
        "s[0] = s0\n",
        "\n",
        "for i in range(0, len(t) - 1):\n",
        "    s[i + 1] = s[i] + h*f(t[i], s[i])\n",
        "\n",
        "plt.plot(t, s, 'ro--', label='Explicit Euler')\n",
        "plt.plot(t, np.exp(t), 'g', label='Exact')\n",
        "plt.title('Explicit Euler and Exact solution for f\\'(t) = e^t')\n",
        "plt.xlabel('t')\n",
        "plt.ylabel('f(t)')\n",
        "plt.grid()\n",
        "plt.legend(loc='lower right')\n",
        "plt.show()"
      ],
      "metadata": {
        "colab": {
          "base_uri": "https://localhost:8080/",
          "height": 472
        },
        "id": "VPw10IyKXn3T",
        "outputId": "5c32a056-1afd-4d73-d07b-325a49ca5ac0"
      },
      "execution_count": 8,
      "outputs": [
        {
          "output_type": "display_data",
          "data": {
            "text/plain": [
              "<Figure size 640x480 with 1 Axes>"
            ],
            "image/png": "[encoded data removed]"
          },
          "metadata": {}
        }
      ]
    },
    {
      "cell_type": "markdown",
      "source": [
        "With the step size of h=0.2, we can see that our approximate solution quickly falls off. With a smaller step size, this issue could be addressed. Alternativelly, we could also employ an implicit variation on this method; implicit because the next step t_{i+1} doesn't solely rely on information from the previous t_i."
      ],
      "metadata": {
        "id": "Sf_aIvVzYg1v"
      }
    },
    {
      "cell_type": "markdown",
      "source": [
        "The first implicit method to consider is the implicit Euler method, given by:"
      ],
      "metadata": {
        "id": "HtOg80uiZioW"
      }
    },
    {
      "cell_type": "code",
      "source": [
        "# S(t_{i+1}) = S(t_i) + h * F[t_{i+1}, S(t_{i+1})]"
      ],
      "metadata": {
        "id": "-3kZROfiZmPg"
      },
      "execution_count": null,
      "outputs": []
    },
    {
      "cell_type": "markdown",
      "source": [
        "The implicit Euler method is not universally applicable, but we frequently find that we are able to apply it in some situations. The next implicit method is a simple average of the explicit and implicit Euler methods, the trapezoidal formula, given by:"
      ],
      "metadata": {
        "id": "TNZx0S7QZwyn"
      }
    },
    {
      "cell_type": "code",
      "source": [
        "# S(t_{i+1}) = S(t_i) + (h/2) * (F[t_i, S(t_i)] + F[t_{i+1}, S(t_{i+1})])"
      ],
      "metadata": {
        "id": "ZtXljeNuaNhb"
      },
      "execution_count": null,
      "outputs": []
    },
    {
      "cell_type": "markdown",
      "source": [
        "These implicit methods are less far-reaching in their applicability, but will often provide a more accurate solution for the situations in which they do apply than the explicit Euler method. "
      ],
      "metadata": {
        "id": "IoZBwbXJaXWi"
      }
    },
    {
      "cell_type": "markdown",
      "source": [
        "Next up, we will consider the stability of these solution methods, as well as some more complicated methods that will provide us with a safer and more accurate solution."
      ],
      "metadata": {
        "id": "XVLRS91qa76y"
      }
    }
  ]
}