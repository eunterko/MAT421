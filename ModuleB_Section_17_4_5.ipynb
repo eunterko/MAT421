{
  "nbformat": 4,
  "nbformat_minor": 0,
  "metadata": {
    "colab": {
      "provenance": [],
      "authorship_tag": "ABX9TyMDbrJm50wX7SU11uDfzDTM",
      "include_colab_link": true
    },
    "kernelspec": {
      "name": "python3",
      "display_name": "Python 3"
    },
    "language_info": {
      "name": "python"
    }
  },
  "cells": [
    {
      "cell_type": "markdown",
      "metadata": {
        "id": "view-in-github",
        "colab_type": "text"
      },
      "source": [
        "<a href=\"https://colab.research.google.com/github/eunterko/MAT421/blob/main/ModuleB_Section_17_4_5.ipynb\" target=\"_parent\"><img src=\"https://colab.research.google.com/assets/colab-badge.svg\" alt=\"Open In Colab\"/></a>"
      ]
    },
    {
      "cell_type": "markdown",
      "source": [
        "# **Chapter 17: Interpolation (part 2)**"
      ],
      "metadata": {
        "id": "o9qV5iGfmlYu"
      }
    },
    {
      "cell_type": "markdown",
      "source": [
        "# *17.4 Lagrange Polynomial Interpolation*"
      ],
      "metadata": {
        "id": "JNzcJozemmb2"
      }
    },
    {
      "cell_type": "markdown",
      "source": [
        "The next interpolation method is Lagrange polynomial interpolation. While cubic spline interpolation involved defining several piecewise cubic polynomials, Lagrange polynomial interpolation involves defining one polynomial that connects all the data points: the Lagrange polynomial L(x). We define this polynomial as"
      ],
      "metadata": {
        "id": "R1prsZtKm3yn"
      }
    },
    {
      "cell_type": "code",
      "source": [
        "# L(x) = sum_(i=1)^n y_i * P_i(x)"
      ],
      "metadata": {
        "id": "uXZFUQ-dm4H_"
      },
      "execution_count": null,
      "outputs": []
    },
    {
      "cell_type": "markdown",
      "source": [
        "where P_i(x) are the Lagrange basis polynomials "
      ],
      "metadata": {
        "id": "3S7vSZrVoI5m"
      }
    },
    {
      "cell_type": "code",
      "source": [
        "# P_i(x) = prod_(j=1, j!=i)^n (x - x_j) / (x_i - x_j)"
      ],
      "metadata": {
        "id": "Vk-snhW2oPC5"
      },
      "execution_count": null,
      "outputs": []
    },
    {
      "cell_type": "markdown",
      "source": [
        "Like previous interpolation methods, Python has the function lagrange(x, y) in scipy. Using this function to solve the problem statement (and using the same data set from the previous sections), we would have"
      ],
      "metadata": {
        "id": "U3kPRaX3oPkK"
      }
    },
    {
      "cell_type": "code",
      "source": [
        "from scipy.interpolate import lagrange\n",
        "\n",
        "x = [1,2,3,4]\n",
        "y = [1,4,2,3]\n",
        "f = lagrange(x,y)\n",
        "L = f(2.5)\n",
        "print(L)"
      ],
      "metadata": {
        "colab": {
          "base_uri": "https://localhost:8080/"
        },
        "id": "PGBIaDc4pJ22",
        "outputId": "7474ef7c-834c-47e0-c150-4ecfb6d1a915"
      },
      "execution_count": 2,
      "outputs": [
        {
          "output_type": "stream",
          "name": "stdout",
          "text": [
            "3.124999999999993\n"
          ]
        }
      ]
    },
    {
      "cell_type": "markdown",
      "source": [
        "Graphing our Lagrange polynomial interpolation, we have"
      ],
      "metadata": {
        "id": "UqfyxGcYpmfl"
      }
    },
    {
      "cell_type": "code",
      "source": [
        "from scipy.interpolate import lagrange\n",
        "import numpy as np\n",
        "import matplotlib.pyplot as plt\n",
        "plt.style.use('default')\n",
        "\n",
        "x = [1,2,3,4]\n",
        "y = [1,4,2,3]\n",
        "f = lagrange(x,y)\n",
        "x_new = np.linspace(1, 4, 100)\n",
        "y_new = f(x_new)\n",
        "plt.plot(x_new,y_new,'b',x,y,'bo',2.5,3.125,'ro') \n",
        "plt.title('Lagrange Polynomial Interpolation')\n",
        "plt.xlabel('x')\n",
        "plt.ylabel('y')\n",
        "plt.show()"
      ],
      "metadata": {
        "colab": {
          "base_uri": "https://localhost:8080/",
          "height": 472
        },
        "id": "OY_80UVNo-SC",
        "outputId": "657b5412-0dc8-4b7e-c16d-6fa7a16295c4"
      },
      "execution_count": 4,
      "outputs": [
        {
          "output_type": "display_data",
          "data": {
            "text/plain": [
              "<Figure size 640x480 with 1 Axes>"
            ],
            "image/png": "[encoded data removed]"
          },
          "metadata": {}
        }
      ]
    },
    {
      "cell_type": "markdown",
      "source": [
        "# *17.5 Newton’s Polynomial Interpolation*"
      ],
      "metadata": {
        "id": "_zLXj5-ImyOc"
      }
    },
    {
      "cell_type": "markdown",
      "source": [
        "The next interpolation method is similar to Lagrange polynomial interpolation, in that it defines a single polynomial that connects all the data points: Newton's polynomial interpolation. The benefit of Newton's polynomial interpolation is that all the coefficients of the polynomial f(x) can be determined by a relatively simple, iterative process. The polynomial takes the form"
      ],
      "metadata": {
        "id": "mKzopnErm4mh"
      }
    },
    {
      "cell_type": "code",
      "source": [
        "# f(x) = sum_(i=0)^n a_i * n_i(x)"
      ],
      "metadata": {
        "id": "3fZa2zoam4zA"
      },
      "execution_count": null,
      "outputs": []
    },
    {
      "cell_type": "markdown",
      "source": [
        "where"
      ],
      "metadata": {
        "id": "_cIpkJjNrzUb"
      }
    },
    {
      "cell_type": "code",
      "source": [
        "# n_i(x) = prod_(j=0)^(i-1) x - x_j"
      ],
      "metadata": {
        "id": "7oSeeNYsrz_h"
      },
      "execution_count": null,
      "outputs": []
    },
    {
      "cell_type": "markdown",
      "source": [
        "The process to determine the coefficients begins as such: we know that, for every (x_i, y_i), f(x_i) = y_i. Therefore, for x_0,"
      ],
      "metadata": {
        "id": "KdwJdVNcsUXv"
      }
    },
    {
      "cell_type": "code",
      "source": [
        "# f(x_0) = a_0 = y_0"
      ],
      "metadata": {
        "id": "ptq9e28RslRX"
      },
      "execution_count": null,
      "outputs": []
    },
    {
      "cell_type": "markdown",
      "source": [
        "and for x_1,"
      ],
      "metadata": {
        "id": "0JZFXMhmsrcc"
      }
    },
    {
      "cell_type": "code",
      "source": [
        "# f(x_1) = a_0 + a_1 * (x_1 - x_0) = y_1"
      ],
      "metadata": {
        "id": "YaTcHC7astse"
      },
      "execution_count": null,
      "outputs": []
    },
    {
      "cell_type": "markdown",
      "source": [
        "which can be rearranged to find"
      ],
      "metadata": {
        "id": "yve5xs33s622"
      }
    },
    {
      "cell_type": "code",
      "source": [
        "# a_1 = (y_1 - y_0) / (x_1 - x_0)"
      ],
      "metadata": {
        "id": "XvNw7-Rgs47F"
      },
      "execution_count": null,
      "outputs": []
    },
    {
      "cell_type": "markdown",
      "source": [
        "Continuing this process, we can create a table of the divided differences and find relations for all a_i, thus fully defining the polynomial f(x). Since there is no defined function for this interpolation process, let's write a few functions to solve the problem statement and graph the interpolation function."
      ],
      "metadata": {
        "id": "QDckKi36tCts"
      }
    },
    {
      "cell_type": "code",
      "source": [
        "import numpy as np\n",
        "import matplotlib.pyplot as plt\n",
        "\n",
        "def divided_diff(x,y):\n",
        "\n",
        "    n = len(y)\n",
        "    coef = np.zeros([n, n])\n",
        "    coef[:,0] = y\n",
        "    \n",
        "    for j in range(1,n):\n",
        "        for i in range(0,n-j):\n",
        "            coef[i][j] = \\\n",
        "           (coef[i+1][j-1]-coef[i][j-1])/(x[i+j]-x[i])\n",
        "            \n",
        "    return coef\n",
        "    \n",
        "def newton_poly(coef,x_data,x):\n",
        "\n",
        "  n = len(x_data)-1\n",
        "  p = coef[n]\n",
        "  for k in range(1,n+1):\n",
        "    p = coef[n-k]+(x-x_data[n-k])*p\n",
        "  return p\n",
        "\n",
        "x = [1,2,3,4]\n",
        "y = [1,4,2,3]\n",
        "\n",
        "a_i = divided_diff(x,y)[0,:]\n",
        "x_new = np.linspace(1,4,100)\n",
        "y_new = newton_poly(a_i,x,x_new)\n",
        "\n",
        "print(newton_poly(a_i,x,2.5))\n",
        "\n",
        "plt.plot(x_new,y_new,'b',x,y,'bo',2.5,3.125,'ro') \n",
        "plt.title('Newtons Polynomial Interpolation')\n",
        "plt.xlabel('x')\n",
        "plt.ylabel('y')\n",
        "plt.show()"
      ],
      "metadata": {
        "colab": {
          "base_uri": "https://localhost:8080/",
          "height": 489
        },
        "id": "p-DhH8n7tmB1",
        "outputId": "fc8d0c99-31d9-49e3-9afc-7a7f0e4987ea"
      },
      "execution_count": 11,
      "outputs": [
        {
          "output_type": "stream",
          "name": "stdout",
          "text": [
            "3.125\n"
          ]
        },
        {
          "output_type": "display_data",
          "data": {
            "text/plain": [
              "<Figure size 640x480 with 1 Axes>"
            ],
            "image/png": "[encoded data removed]"
          },
          "metadata": {}
        }
      ]
    },
    {
      "cell_type": "markdown",
      "source": [
        "As we have seen throughout this chapter, there are a variety of interpolation methods that offer different strengths and weaknesses, depending on the situation in which you might need to use them."
      ],
      "metadata": {
        "id": "zym2ydun4VTw"
      }
    }
  ]
}