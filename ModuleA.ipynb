{
  "nbformat": 4,
  "nbformat_minor": 0,
  "metadata": {
    "colab": {
      "provenance": [],
      "authorship_tag": "ABX9TyOEzq90XQxXA6Sj8SbWO50U",
      "include_colab_link": true
    },
    "kernelspec": {
      "name": "python3",
      "display_name": "Python 3"
    },
    "language_info": {
      "name": "python"
    }
  },
  "cells": [
    {
      "cell_type": "markdown",
      "metadata": {
        "id": "view-in-github",
        "colab_type": "text"
      },
      "source": [
        "<a href=\"https://colab.research.google.com/github/eunterko/MAT421/blob/main/ModuleA.ipynb\" target=\"_parent\"><img src=\"https://colab.research.google.com/assets/colab-badge.svg\" alt=\"Open In Colab\"/></a>"
      ]
    },
    {
      "cell_type": "markdown",
      "source": [
        "# **Chapter 9: Representation of Numbers**"
      ],
      "metadata": {
        "id": "CMRCI9eqT2DU"
      }
    },
    {
      "cell_type": "markdown",
      "source": [
        "# *9.1 Base-N and Binary*"
      ],
      "metadata": {
        "id": "D2_eRKkyMx8e"
      }
    },
    {
      "cell_type": "markdown",
      "source": [
        "The common number system that most people are familiar with is commonly referred to as the decimal system, which is also called base 10. Although this system is very intuitive for humans, a different system is needed for computers, which only have access to a finite number of 'bits' (digits). This system is base 2."
      ],
      "metadata": {
        "id": "sx1yIZmOMv-i"
      }
    },
    {
      "cell_type": "markdown",
      "source": [
        "Let's first take a look at the number 29 in base 10, and how to represent/convert it to base 2."
      ],
      "metadata": {
        "id": "zO-zZ4CaWzgy"
      }
    },
    {
      "cell_type": "code",
      "execution_count": 9,
      "metadata": {
        "id": "KjOzZjl6P_I9",
        "colab": {
          "base_uri": "https://localhost:8080/"
        },
        "outputId": "84eb6b66-5109-4f15-e2b3-72e8d5703968"
      },
      "outputs": [
        {
          "output_type": "execute_result",
          "data": {
            "text/plain": [
              "True"
            ]
          },
          "metadata": {},
          "execution_count": 9
        }
      ],
      "source": [
        "# 29 in base 10\n",
        "29 == 2*(10**1) + 9*(10**0)"
      ]
    },
    {
      "cell_type": "code",
      "source": [
        "# 29 in base 2\n",
        "29 == 1*(2**4) + 1*(2**3) + 1*(2**2) + 0*(2**1) + 1*(2**0) # == 11101"
      ],
      "metadata": {
        "colab": {
          "base_uri": "https://localhost:8080/"
        },
        "id": "_gDNtp3vHdvc",
        "outputId": "014794b6-752e-404c-c886-1f18a45d9e71"
      },
      "execution_count": 10,
      "outputs": [
        {
          "output_type": "execute_result",
          "data": {
            "text/plain": [
              "True"
            ]
          },
          "metadata": {},
          "execution_count": 10
        }
      ]
    },
    {
      "cell_type": "markdown",
      "source": [
        "We also have the handy bin(num) to convert a number in base 10 to base 2."
      ],
      "metadata": {
        "id": "8GoJ57EcVwA2"
      }
    },
    {
      "cell_type": "code",
      "source": [
        "bin(29)"
      ],
      "metadata": {
        "id": "DCUb2me9V-Sd",
        "colab": {
          "base_uri": "https://localhost:8080/",
          "height": 35
        },
        "outputId": "8bbbaf8e-da9e-4a46-d4d7-b44ecd1f44f2"
      },
      "execution_count": 11,
      "outputs": [
        {
          "output_type": "execute_result",
          "data": {
            "text/plain": [
              "'0b11101'"
            ],
            "application/vnd.google.colaboratory.intrinsic+json": {
              "type": "string"
            }
          },
          "metadata": {},
          "execution_count": 11
        }
      ]
    },
    {
      "cell_type": "markdown",
      "source": [
        "There is also int(num,2) to convert a number in base 2 to base 10."
      ],
      "metadata": {
        "id": "d8UYKmz_LXon"
      }
    },
    {
      "cell_type": "code",
      "source": [
        "int('0b11101',2)"
      ],
      "metadata": {
        "colab": {
          "base_uri": "https://localhost:8080/"
        },
        "id": "s7sRZEwKLjl0",
        "outputId": "700133e2-17a9-49a6-8006-754f4b57f7dd"
      },
      "execution_count": 18,
      "outputs": [
        {
          "output_type": "execute_result",
          "data": {
            "text/plain": [
              "29"
            ]
          },
          "metadata": {},
          "execution_count": 18
        }
      ]
    },
    {
      "cell_type": "markdown",
      "source": [
        "We're certainly all familiar with addition and multiplication in base 10, and these opperations work in much the same fashion in base 2, just keeping in mind how binary bits work."
      ],
      "metadata": {
        "id": "3BlK4tuUWWfq"
      }
    },
    {
      "cell_type": "code",
      "source": [
        "# 29 + 29 in base 2\n",
        "bin(0b11101 + 0b11101)"
      ],
      "metadata": {
        "id": "hY0rFjT4Wk7w",
        "colab": {
          "base_uri": "https://localhost:8080/",
          "height": 35
        },
        "outputId": "1e33f3ce-3137-4a3c-8a1b-f50246d0860a"
      },
      "execution_count": 14,
      "outputs": [
        {
          "output_type": "execute_result",
          "data": {
            "text/plain": [
              "'0b111010'"
            ],
            "application/vnd.google.colaboratory.intrinsic+json": {
              "type": "string"
            }
          },
          "metadata": {},
          "execution_count": 14
        }
      ]
    },
    {
      "cell_type": "code",
      "source": [
        "# Converting to base 10\n",
        "int('0b111010',2)"
      ],
      "metadata": {
        "colab": {
          "base_uri": "https://localhost:8080/"
        },
        "id": "hsGh7jmtLQhY",
        "outputId": "f524c805-997d-4fd3-ba1a-ecb17e84388b"
      },
      "execution_count": 19,
      "outputs": [
        {
          "output_type": "execute_result",
          "data": {
            "text/plain": [
              "58"
            ]
          },
          "metadata": {},
          "execution_count": 19
        }
      ]
    },
    {
      "cell_type": "code",
      "source": [
        "# 29 * 29 in base 2\n",
        "bin(0b11101 * 0b11101)"
      ],
      "metadata": {
        "colab": {
          "base_uri": "https://localhost:8080/",
          "height": 35
        },
        "id": "LAqKfg9LMVuu",
        "outputId": "bd375769-7573-4437-8c69-44d942576bff"
      },
      "execution_count": 20,
      "outputs": [
        {
          "output_type": "execute_result",
          "data": {
            "text/plain": [
              "'0b1101001001'"
            ],
            "application/vnd.google.colaboratory.intrinsic+json": {
              "type": "string"
            }
          },
          "metadata": {},
          "execution_count": 20
        }
      ]
    },
    {
      "cell_type": "code",
      "source": [
        "# Converting to base 10\n",
        "int('0b1101001001',2)"
      ],
      "metadata": {
        "colab": {
          "base_uri": "https://localhost:8080/"
        },
        "id": "1thIcKixMfMD",
        "outputId": "1c65dda5-0202-49a8-e09a-ec37a17982a6"
      },
      "execution_count": 21,
      "outputs": [
        {
          "output_type": "execute_result",
          "data": {
            "text/plain": [
              "841"
            ]
          },
          "metadata": {},
          "execution_count": 21
        }
      ]
    },
    {
      "cell_type": "markdown",
      "source": [
        "# *9.2 Floating Point Numbers*"
      ],
      "metadata": {
        "id": "jZw_ZU1iNEoK"
      }
    },
    {
      "cell_type": "markdown",
      "source": [
        "As we just saw, base 2 or binary allows us to store numbers as bits. However, this does not leave us with a large range or high precision of numbers. As such, we need to expand binary to what we call floating point, or just float. Floats use 64 bits to store three pieces of information:\n",
        "\n",
        "\n",
        "*   1 bit for the sign *s* (the sign of the number)\n",
        "*   52 bits for the fraction *f* (the coefficient of the exponent)\n",
        "*   11 bits for the exponent *e* (the power of the base 2)\n",
        "\n",
        "With these three pieces of information, we essentially have a fraction in base 2, given by the equation\n",
        "\n",
        "\n",
        "\n"
      ],
      "metadata": {
        "id": "P2TU4ROhNKwu"
      }
    },
    {
      "cell_type": "code",
      "source": [
        "# n = ((-1)**s) * (1+f) * (2^(e-1023))"
      ],
      "metadata": {
        "id": "IefepmHsPvFD"
      },
      "execution_count": 22,
      "outputs": []
    },
    {
      "cell_type": "markdown",
      "source": [
        "The spacing between floating point numbers is referred to as the gap. As we can see from the exponential component of this equation, the gap will increase in size as our floats get larger and larger. The numpy library has a function, spacing(num), that gives the gap at that number. For example, let's see the gap at 1937."
      ],
      "metadata": {
        "id": "N2OXhmyLpsi8"
      }
    },
    {
      "cell_type": "code",
      "source": [
        "import numpy as np\n",
        "\n",
        "np.spacing(1937)"
      ],
      "metadata": {
        "colab": {
          "base_uri": "https://localhost:8080/"
        },
        "id": "Z7Rrd-CcqbMX",
        "outputId": "fafbf6d6-5354-4a03-cd06-40237ef06894"
      },
      "execution_count": 43,
      "outputs": [
        {
          "output_type": "execute_result",
          "data": {
            "text/plain": [
              "2.2737367544323206e-13"
            ]
          },
          "metadata": {},
          "execution_count": 43
        }
      ]
    },
    {
      "cell_type": "markdown",
      "source": [
        "If we try to pick a value that falls inside this gap, we find that it will just evaluate to that value."
      ],
      "metadata": {
        "id": "tC5vL5dpvaEI"
      }
    },
    {
      "cell_type": "code",
      "source": [
        "import numpy as np\n",
        "\n",
        "1937 + np.spacing(1937)/3"
      ],
      "metadata": {
        "colab": {
          "base_uri": "https://localhost:8080/"
        },
        "id": "wrrSNthNwSjN",
        "outputId": "7566f094-53c0-4099-93fe-1d1793e0c9b5"
      },
      "execution_count": 82,
      "outputs": [
        {
          "output_type": "execute_result",
          "data": {
            "text/plain": [
              "1937.0"
            ]
          },
          "metadata": {},
          "execution_count": 82
        }
      ]
    },
    {
      "cell_type": "markdown",
      "source": [
        "Since we are dealing  with a finite number of bits, we will of course have a maximum and minimum value that is allowed. These are given by e=2046 and e=1, respectively. With the sys module, we can view these values exactly."
      ],
      "metadata": {
        "id": "lR0cXjGCqkXT"
      }
    },
    {
      "cell_type": "code",
      "source": [
        "import sys\n",
        "\n",
        "print(\"max is\", sys.float_info.max, \"and min is\", sys.float_info.min)"
      ],
      "metadata": {
        "colab": {
          "base_uri": "https://localhost:8080/"
        },
        "id": "8R5XMu7BrFOW",
        "outputId": "187ce7fc-868d-4cf3-d5c9-2876b997562a"
      },
      "execution_count": 48,
      "outputs": [
        {
          "output_type": "stream",
          "name": "stdout",
          "text": [
            "max is 1.7976931348623157e+308 and min is 2.2250738585072014e-308\n"
          ]
        }
      ]
    },
    {
      "cell_type": "markdown",
      "source": [
        "Because of these limitations, numbers that are too large or too small to be represented by floats repectively result in overflow (which is assigned inf) and underflow (which is assigned 0). For example, let's see what happens when we plug in a value that is larger than the maximum, and a value that is smaller than the minimum."
      ],
      "metadata": {
        "id": "e8gyPn0KQCaD"
      }
    },
    {
      "cell_type": "code",
      "source": [
        "5e+308"
      ],
      "metadata": {
        "colab": {
          "base_uri": "https://localhost:8080/"
        },
        "id": "lZOzxZb5sdLV",
        "outputId": "5a739a02-812a-4e73-b9cd-b54abecdb6b2"
      },
      "execution_count": 80,
      "outputs": [
        {
          "output_type": "execute_result",
          "data": {
            "text/plain": [
              "inf"
            ]
          },
          "metadata": {},
          "execution_count": 80
        }
      ]
    },
    {
      "cell_type": "code",
      "source": [
        "2**(-2000)"
      ],
      "metadata": {
        "colab": {
          "base_uri": "https://localhost:8080/"
        },
        "id": "P-7K5KIUs4-8",
        "outputId": "5a22102a-a9d3-428a-df41-a3409aa89e35"
      },
      "execution_count": 81,
      "outputs": [
        {
          "output_type": "execute_result",
          "data": {
            "text/plain": [
              "0.0"
            ]
          },
          "metadata": {},
          "execution_count": 81
        }
      ]
    },
    {
      "cell_type": "markdown",
      "source": [
        "# *9.3 Round-off Errors*"
      ],
      "metadata": {
        "id": "Yw4W_7gTR89W"
      }
    },
    {
      "cell_type": "markdown",
      "source": [
        "An important consequence of floats is that, since they are fracations in base 2, we cannot store them exactly. Instead, the numbers are stored as an approximation, as a finite number of bits. This leads to the possibility of round-off error."
      ],
      "metadata": {
        "id": "QgY3jMUcSEWc"
      }
    },
    {
      "cell_type": "markdown",
      "source": [
        "As a simple example, let's try computing 10-9.725 in Python. We expect this to give us 0.275, but instead..."
      ],
      "metadata": {
        "id": "iFgPTMyRcOPW"
      }
    },
    {
      "cell_type": "code",
      "source": [
        "10-9.725"
      ],
      "metadata": {
        "colab": {
          "base_uri": "https://localhost:8080/"
        },
        "id": "RQvndyHCb8sW",
        "outputId": "62ba9815-d131-48e2-a4a6-c98c4597bd05"
      },
      "execution_count": 28,
      "outputs": [
        {
          "output_type": "execute_result",
          "data": {
            "text/plain": [
              "0.27500000000000036"
            ]
          },
          "metadata": {},
          "execution_count": 28
        }
      ]
    },
    {
      "cell_type": "markdown",
      "source": [
        "For a simple calculation like this, the error is not too noticable, and it can be easily corrected using round(num)."
      ],
      "metadata": {
        "id": "svo2Zf4yclAt"
      }
    },
    {
      "cell_type": "code",
      "source": [
        "round(10-9.725,3)"
      ],
      "metadata": {
        "colab": {
          "base_uri": "https://localhost:8080/"
        },
        "id": "7j-HWHxycu2c",
        "outputId": "8973c6ea-a624-4201-ba06-205fbe91c3bc"
      },
      "execution_count": 30,
      "outputs": [
        {
          "output_type": "execute_result",
          "data": {
            "text/plain": [
              "0.275"
            ]
          },
          "metadata": {},
          "execution_count": 30
        }
      ]
    },
    {
      "cell_type": "markdown",
      "source": [
        "For more precise calculations, however, or repeated calculations in loops, these round-off errors can compound over and over, resulting in a far more noticable error. Let's see an example, simply adding and subtracting 0.275 to 1 repeatedly."
      ],
      "metadata": {
        "id": "boU-DcOyc4i1"
      }
    },
    {
      "cell_type": "code",
      "source": [
        "def error_example(num,diff,times):\n",
        "  for i in range(times):\n",
        "    num += diff\n",
        "  for i in range(times):\n",
        "    num -= diff\n",
        "  print(num)\n",
        "\n",
        "error_example(1,0.275,10)\n",
        "error_example(1,0.275,100)\n",
        "error_example(1,0.275,10000)\n",
        "error_example(1,0.275,100000000)"
      ],
      "metadata": {
        "colab": {
          "base_uri": "https://localhost:8080/"
        },
        "id": "8vdQ_w3FdZB7",
        "outputId": "180578e0-eef7-4a36-b897-80a166ff0443"
      },
      "execution_count": 42,
      "outputs": [
        {
          "output_type": "stream",
          "name": "stdout",
          "text": [
            "0.9999999999999999\n",
            "0.9999999999999994\n",
            "0.999999999999836\n",
            "0.999999999270876\n"
          ]
        }
      ]
    },
    {
      "cell_type": "markdown",
      "source": [
        "From this example, we can clearly see the dangers of not accounting for round-off error while performing calculations that involve long-runing loops."
      ],
      "metadata": {
        "id": "Hk2st6xPetAU"
      }
    },
    {
      "cell_type": "markdown",
      "source": [
        "Since we will be primarily using floating point representations of number in Python, it is important to keep their properties and drawbacks in mind while coding to avoid issues."
      ],
      "metadata": {
        "id": "4D2jfqmbfjlr"
      }
    }
  ]
}